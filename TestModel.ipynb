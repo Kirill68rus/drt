{
  "nbformat": 4,
  "nbformat_minor": 0,
  "metadata": {
    "colab": {
      "provenance": []
    },
    "kernelspec": {
      "name": "python3",
      "display_name": "Python 3"
    },
    "language_info": {
      "name": "python"
    }
  },
  "cells": [
    {
      "cell_type": "code",
      "execution_count": null,
      "metadata": {
        "id": "HAvJLC9PsB6v"
      },
      "outputs": [],
      "source": [
        "import numpy as np\n",
        "import pandas as pd\n",
        "\n",
        "import matplotlib.pyplot as plt\n",
        "import seaborn as sns\n",
        "\n",
        "from scipy.io.arff import loadarff"
      ]
    },
    {
      "cell_type": "code",
      "source": [
        "from google.colab import drive\n",
        "drive.mount('/content/drive/')"
      ],
      "metadata": {
        "colab": {
          "base_uri": "https://localhost:8080/"
        },
        "id": "Pr-C35hvsHh5",
        "outputId": "86e24654-234a-4c68-f211-f342cf34e8ad"
      },
      "execution_count": null,
      "outputs": [
        {
          "output_type": "stream",
          "name": "stdout",
          "text": [
            "Drive already mounted at /content/drive/; to attempt to forcibly remount, call drive.mount(\"/content/drive/\", force_remount=True).\n"
          ]
        }
      ]
    },
    {
      "cell_type": "code",
      "source": [
        "DATA_PATH = 'drive/MyDrive/KP_datasets/'\n",
        "# dataset_2183_cpu_act.arff       target: usr\n",
        "# house_16H.arff                  target: price\n",
        "# dataset_2202_elevators.arff     target: Goal\n",
        "# houses.arff                     target: median_house_value"
      ],
      "metadata": {
        "id": "hkFWoJXKsHkX"
      },
      "execution_count": null,
      "outputs": []
    },
    {
      "cell_type": "code",
      "source": [
        "DATASET_NAME = 'houses.arff'\n",
        "target_col = 'median_house_value'"
      ],
      "metadata": {
        "id": "em4LCvPXsHmq"
      },
      "execution_count": null,
      "outputs": []
    },
    {
      "cell_type": "code",
      "source": [
        "data = loadarff(DATA_PATH + DATASET_NAME)\n",
        "df = pd.DataFrame(data[0])"
      ],
      "metadata": {
        "id": "l-QsJ8UIsHov"
      },
      "execution_count": null,
      "outputs": []
    },
    {
      "cell_type": "code",
      "source": [
        "y = df[target_col]\n",
        "data = df.drop(columns=[target_col])"
      ],
      "metadata": {
        "id": "aBj97kYVsHrG"
      },
      "execution_count": null,
      "outputs": []
    },
    {
      "cell_type": "code",
      "source": [
        "# def preprocess_data()"
      ],
      "metadata": {
        "id": "M6vHnJgc0Mvj"
      },
      "execution_count": null,
      "outputs": []
    },
    {
      "cell_type": "code",
      "source": [
        "# filter = y <= 490000\n",
        "# data = data[filter]\n",
        "# y = y[filter]"
      ],
      "metadata": {
        "id": "ktWh7ROb0Mxx"
      },
      "execution_count": null,
      "outputs": []
    },
    {
      "cell_type": "code",
      "source": [],
      "metadata": {
        "id": "AvJKUeAl0M0H"
      },
      "execution_count": null,
      "outputs": []
    },
    {
      "cell_type": "code",
      "source": [],
      "metadata": {
        "id": "iW-i1FpZ0M2K"
      },
      "execution_count": null,
      "outputs": []
    },
    {
      "cell_type": "code",
      "source": [],
      "metadata": {
        "id": "7YjHMshR0M5O"
      },
      "execution_count": null,
      "outputs": []
    },
    {
      "cell_type": "code",
      "source": [
        "from sklearn.model_selection import train_test_split\n",
        "\n",
        "SEED = 42\n",
        "\n",
        "X_train, X_test, y_train, y_test = train_test_split(data, y, test_size=0.2, random_state=SEED)"
      ],
      "metadata": {
        "id": "wjHQtsbzsHtb"
      },
      "execution_count": null,
      "outputs": []
    },
    {
      "cell_type": "code",
      "source": [
        "from sklearn.base import BaseEstimator\n",
        "from sklearn.linear_model import LogisticRegression, LinearRegression, Lasso, Ridge\n",
        "\n",
        "from sklearn.preprocessing import StandardScaler"
      ],
      "metadata": {
        "id": "4Q5lRRCospwZ"
      },
      "execution_count": null,
      "outputs": []
    },
    {
      "cell_type": "code",
      "source": [
        "\n",
        "class Model(BaseEstimator):\n",
        "\n",
        "  def __init__(self, classificator, threshold, regressors=None, cls_scaler=None, reg_scalers=[None, None]):\n",
        "    super().__init__()\n",
        "\n",
        "    self.threshold = threshold\n",
        "\n",
        "    self.cls_model = classificator\n",
        "\n",
        "\n",
        "    self.regressors = regressors\n",
        "\n",
        "    self.scaler_cls = cls_scaler\n",
        "    self.reg_scalers = reg_scalers\n",
        "\n",
        "  def fit_classification(self, data, target):\n",
        "    if self.scaler_cls is not None:\n",
        "      data = self.scaler_cls.fit_transform(data)\n",
        "    self.cls_model.fit(data, target)\n",
        "\n",
        "  def fit_regressor(self, regressor, data, target, reg_num=1):\n",
        "    if self.reg_scalers[reg_num - 1] is not None:\n",
        "      data = self.reg_scalers[reg_num - 1].fit_transform(data)\n",
        "    return regressor.fit(data, target)\n",
        "\n",
        "  def fit(self, data, target):\n",
        "    cls_target = target >= self.threshold\n",
        "    self.fit_classification(data, cls_target)\n",
        "\n",
        "    for i, regressor in enumerate(self.regressors):\n",
        "      self.fit_regressor(regressor, data[cls_target == i], target[cls_target == i], reg_num=i+1)\n",
        "\n",
        "  def predict_class(self, data, target):\n",
        "    cls_target = target >= self.threshold\n",
        "\n",
        "    if self.scaler_cls is not None:\n",
        "      data = self.scaler_cls.transform(data)\n",
        "    predict_classes = self.cls_model.predict(data)\n",
        "\n",
        "    return predict_classes, cls_target\n",
        "\n",
        "  def predict(self, data):\n",
        "\n",
        "    result = np.zeros(data.shape[0], dtype=np.float32)\n",
        "    data_for_cls = data.copy()\n",
        "    if self.scaler_cls is not None:\n",
        "      data_for_cls = self.scaler_cls.transform(data)\n",
        "    cls_results = self.cls_model.predict(data_for_cls)\n",
        "\n",
        "    reg_data = []\n",
        "    for i, reg_scaler in enumerate(self.reg_scalers):\n",
        "      if reg_scaler is not None:\n",
        "        reg_data.append(reg_scaler.transform(data[cls_results == i]))\n",
        "      else:\n",
        "        reg_data.append(data[cls_results == i])\n",
        "      result[cls_results == i] = self.regressors[i].predict(reg_data[i])\n",
        "\n",
        "    return result\n",
        "\n"
      ],
      "metadata": {
        "id": "glRR5ROZspzI"
      },
      "execution_count": null,
      "outputs": []
    },
    {
      "cell_type": "code",
      "source": [
        "# filter = y_train <= 490000\n",
        "# X_train = X_train[filter]\n",
        "# y_train = y_train[filter]"
      ],
      "metadata": {
        "id": "DfW9FuqooAlK"
      },
      "execution_count": null,
      "outputs": []
    },
    {
      "cell_type": "code",
      "source": [
        "sns.histplot(y_train)"
      ],
      "metadata": {
        "id": "G_zVfH88sp1T",
        "colab": {
          "base_uri": "https://localhost:8080/",
          "height": 469
        },
        "outputId": "602c703c-6ae4-4bd2-8302-db9b05e6504d"
      },
      "execution_count": null,
      "outputs": [
        {
          "output_type": "execute_result",
          "data": {
            "text/plain": [
              "<Axes: xlabel='median_house_value', ylabel='Count'>"
            ]
          },
          "metadata": {},
          "execution_count": 949
        },
        {
          "output_type": "display_data",
          "data": {
            "text/plain": [
              "<Figure size 640x480 with 1 Axes>"
            ],
            "image/png": "[encoded data removed]"
          },
          "metadata": {}
        }
      ]
    },
    {
      "cell_type": "code",
      "source": [
        "from sklearn.svm import SVC"
      ],
      "metadata": {
        "id": "PaT2CCS0X7US"
      },
      "execution_count": null,
      "outputs": []
    },
    {
      "cell_type": "code",
      "source": [
        "# classificator = LogisticRegression(C=3, max_iter=10000)\n",
        "classificator = SVC(C=20, kernel='rbf', max_iter=50000)\n",
        "\n",
        "scaler_cls = StandardScaler()\n",
        "# scaler_cls = None\n",
        "\n",
        "reg_scalers = [StandardScaler(), StandardScaler()]\n",
        "# reg_scalers = [StandardScaler(), None]\n",
        "# reg_scalers = [None, StandardScaler()]\n",
        "# reg_scalers = [None, None]\n",
        "\n",
        "regressors = [Lasso(alpha=1, max_iter=20000), Lasso(alpha=3, max_iter=20000)]\n",
        "# regressors = [LinearRegression(), LinearRegression()]\n",
        "\n",
        "# 'poly'"
      ],
      "metadata": {
        "id": "mplXFYL17w-d"
      },
      "execution_count": null,
      "outputs": []
    },
    {
      "cell_type": "code",
      "source": [
        "threshold = 300000"
      ],
      "metadata": {
        "id": "0wHAaDrC838u"
      },
      "execution_count": null,
      "outputs": []
    },
    {
      "cell_type": "code",
      "source": [
        "model = Model(classificator, threshold, regressors=regressors, cls_scaler=scaler_cls, reg_scalers=reg_scalers)"
      ],
      "metadata": {
        "id": "t_cx8dxgsp36"
      },
      "execution_count": null,
      "outputs": []
    },
    {
      "cell_type": "code",
      "source": [
        "model.fit(X_train, y_train)"
      ],
      "metadata": {
        "id": "OprApRt_sp6M"
      },
      "execution_count": null,
      "outputs": []
    },
    {
      "cell_type": "code",
      "source": [
        "y_pred = model.predict(X_test)"
      ],
      "metadata": {
        "id": "A-Q_CkFcsp-d"
      },
      "execution_count": null,
      "outputs": []
    },
    {
      "cell_type": "code",
      "source": [
        "from sklearn.model_selection import KFold\n",
        "\n",
        "from sklearn.metrics import mean_absolute_error, r2_score, mean_absolute_percentage_error, mean_squared_error\n",
        "metrics_dict = {}\n",
        "\n",
        "metrics_dict['metrics'] = {'r2': r2_score(y_test, y_pred),\n",
        "                            'MAE': mean_absolute_error(y_test, y_pred),\n",
        "                            'MSE': mean_squared_error(y_test, y_pred),\n",
        "                            'MAPE': mean_absolute_percentage_error(y_test, y_pred)}"
      ],
      "metadata": {
        "id": "Nr4vKEdPqcYW"
      },
      "execution_count": null,
      "outputs": []
    },
    {
      "cell_type": "code",
      "source": [
        "metrics_dict"
      ],
      "metadata": {
        "colab": {
          "base_uri": "https://localhost:8080/"
        },
        "id": "KScilHO3r6V7",
        "outputId": "a2aa57d2-f6bf-456d-d077-d4bcd7cd3cb1"
      },
      "execution_count": null,
      "outputs": [
        {
          "output_type": "execute_result",
          "data": {
            "text/plain": [
              "{'metrics': {'r2': 0.6628447487419742,\n",
              "  'MAE': 46373.22405745632,\n",
              "  'MSE': 4418112683.095836,\n",
              "  'MAPE': 0.26530039735060373}}"
            ]
          },
          "metadata": {},
          "execution_count": 957
        }
      ]
    },
    {
      "cell_type": "code",
      "source": [
        "predict_classes, true_classes = model.predict_class(X_test, y_test)"
      ],
      "metadata": {
        "id": "_oS2J47tr1dK"
      },
      "execution_count": null,
      "outputs": []
    },
    {
      "cell_type": "code",
      "source": [
        "from sklearn.metrics import accuracy_score\n",
        "\n",
        "accuracy_score(true_classes, predict_classes)"
      ],
      "metadata": {
        "colab": {
          "base_uri": "https://localhost:8080/"
        },
        "id": "gjyo5Ei4644r",
        "outputId": "8cdaa2f7-d70a-4c1b-be98-906a879b0f1d"
      },
      "execution_count": null,
      "outputs": [
        {
          "output_type": "execute_result",
          "data": {
            "text/plain": [
              "0.9115794573643411"
            ]
          },
          "metadata": {},
          "execution_count": 959
        }
      ]
    },
    {
      "cell_type": "code",
      "source": [
        "# dataset_2183_cpu_act.arff:\n",
        "\n",
        "# thr = 65\n",
        "# classificator = LogisticRegression(C=2, max_iter=10000)\n",
        "# scaler_cls = StandardScaler()\n",
        "# reg_scalers = [StandardScaler(), None]\n",
        "# regressors = [Lasso(alpha=1, max_iter=10000), Lasso(alpha=2, max_iter=10000)]\n",
        "\n",
        "# {'metrics': {'r2': 0.960826925734682,\n",
        "#   'MAE': 2.150114833817961,\n",
        "#   'MSE': 11.738617654251021,\n",
        "#   'MAPE': 408490187290832.7}}\n",
        "\n",
        "# acc: 0.9890176937156803"
      ],
      "metadata": {
        "id": "1482U7Xs646-"
      },
      "execution_count": null,
      "outputs": []
    },
    {
      "cell_type": "code",
      "source": [
        "# house_16H.arff\n",
        "\n",
        "# threshold = 70000\n",
        "# classificator = SVC(C=3, kernel='rbf', max_iter=100000)\n",
        "\n",
        "# scaler_cls = StandardScaler()\n",
        "# reg_scalers = [StandardScaler(), StandardScaler()]\n",
        "# regressors = [Lasso(alpha=1, max_iter=20000), Lasso(alpha=1, max_iter=20000)]\n",
        "\n",
        "# {'metrics': {'r2': 0.441646082060712,\n",
        "#   'MAE': 20286.62057431832,\n",
        "#   'MSE': 1568494462.4838796,\n",
        "#   'MAPE': 6.923108603508425e+17}}\n",
        "\n",
        "# accuracy = 0.9084924292297564"
      ],
      "metadata": {
        "id": "5o8UN94x61kg"
      },
      "execution_count": null,
      "outputs": []
    },
    {
      "cell_type": "code",
      "source": [
        "# dataset_2202_elevators.arff\n",
        "\n",
        "# classificator = LogisticRegression(C=5, max_iter=10000)\n",
        "\n",
        "# scaler_cls = StandardScaler()\n",
        "\n",
        "# reg_scalers = [StandardScaler(), StandardScaler()]\n",
        "# regressors = [LinearRegression(), LinearRegression()]\n",
        "\n",
        "\n",
        "# {'metrics': {'r2': 0.8748573120876797,\n",
        "#   'MAE': 0.001664089481032128,\n",
        "#   'MSE': 5.316820329138507e-06,\n",
        "#   'MAPE': 0.07715684075642518}}\n",
        "\n",
        "\n",
        "# accuracy = 0.9743975903614458"
      ],
      "metadata": {
        "id": "XicDeMqn4eLT"
      },
      "execution_count": null,
      "outputs": []
    },
    {
      "cell_type": "code",
      "source": [
        "# # houses.arff\n",
        "\n",
        "# classificator = SVC(C=20, kernel='rbf', max_iter=50000)\n",
        "# scaler_cls = StandardScaler()\n",
        "# reg_scalers = [StandardScaler(), StandardScaler()]\n",
        "# regressors = [Lasso(alpha=1, max_iter=20000), Lasso(alpha=3, max_iter=20000)]\n",
        "\n",
        "# {'metrics': {'r2': 0.6628447487419742,\n",
        "#   'MAE': 46373.22405745632,\n",
        "#   'MSE': 4418112683.095836,\n",
        "#   'MAPE': 0.26530039735060373}}\n",
        "# accuracy = 0.9115794573643411"
      ],
      "metadata": {
        "id": "_Wlr2LAC4eNr"
      },
      "execution_count": null,
      "outputs": []
    },
    {
      "cell_type": "code",
      "source": [],
      "metadata": {
        "id": "ycKnRRf70Z4u"
      },
      "execution_count": null,
      "outputs": []
    },
    {
      "cell_type": "code",
      "source": [
        "import pandas as pd\n",
        "\n",
        "df = pd.DataFrame({'R2': [0.84719, 0.63596, 0.66284], 'MAE': [29578.008, 50813.0426, 46373.224]}, index=['CatBoost', 'Linreg', 'Ours'])\n"
      ],
      "metadata": {
        "id": "hiyAZhAM4eQB"
      },
      "execution_count": 33,
      "outputs": []
    },
    {
      "cell_type": "code",
      "source": [
        "df"
      ],
      "metadata": {
        "colab": {
          "base_uri": "https://localhost:8080/",
          "height": 143
        },
        "id": "qzQownUO0FmH",
        "outputId": "486303a0-0e4a-426d-f8dd-a303338ef469"
      },
      "execution_count": 34,
      "outputs": [
        {
          "output_type": "execute_result",
          "data": {
            "text/plain": [
              "               R2         MAE\n",
              "CatBoost  0.84719  29578.0080\n",
              "Linreg    0.63596  50813.0426\n",
              "Ours      0.66284  46373.2240"
            ],
            "text/html": [
              "\n",
              "\n",
              "  <div id=\"df-2f5b2afc-9b89-446b-8ecb-8997b43663e1\">\n",
              "    <div class=\"colab-df-container\">\n",
              "      <div>\n",
              "<style scoped>\n",
              "    .dataframe tbody tr th:only-of-type {\n",
              "        vertical-align: middle;\n",
              "    }\n",
              "\n",
              "    .dataframe tbody tr th {\n",
              "        vertical-align: top;\n",
              "    }\n",
              "\n",
              "    .dataframe thead th {\n",
              "        text-align: right;\n",
              "    }\n",
              "</style>\n",
              "<table border=\"1\" class=\"dataframe\">\n",
              "  <thead>\n",
              "    <tr style=\"text-align: right;\">\n",
              "      <th></th>\n",
              "      <th>R2</th>\n",
              "      <th>MAE</th>\n",
              "    </tr>\n",
              "  </thead>\n",
              "  <tbody>\n",
              "    <tr>\n",
              "      <th>CatBoost</th>\n",
              "      <td>0.84719</td>\n",
              "      <td>29578.0080</td>\n",
              "    </tr>\n",
              "    <tr>\n",
              "      <th>Linreg</th>\n",
              "      <td>0.63596</td>\n",
              "      <td>50813.0426</td>\n",
              "    </tr>\n",
              "    <tr>\n",
              "      <th>Ours</th>\n",
              "      <td>0.66284</td>\n",
              "      <td>46373.2240</td>\n",
              "    </tr>\n",
              "  </tbody>\n",
              "</table>\n",
              "</div>\n",
              "      <button class=\"colab-df-convert\" onclick=\"convertToInteractive('df-2f5b2afc-9b89-446b-8ecb-8997b43663e1')\"\n",
              "              title=\"Convert this dataframe to an interactive table.\"\n",
              "              style=\"display:none;\">\n",
              "\n",
              "  <svg xmlns=\"http://www.w3.org/2000/svg\" height=\"24px\"viewBox=\"0 0 24 24\"\n",
              "       width=\"24px\">\n",
              "    <path d=\"M0 0h24v24H0V0z\" fill=\"none\"/>\n",
              "    <path d=\"M18.56 5.44l.94 2.06.94-2.06 2.06-.94-2.06-.94-.94-2.06-.94 2.06-2.06.94zm-11 1L8.5 8.5l.94-2.06 2.06-.94-2.06-.94L8.5 2.5l-.94 2.06-2.06.94zm10 10l.94 2.06.94-2.06 2.06-.94-2.06-.94-.94-2.06-.94 2.06-2.06.94z\"/><path d=\"M17.41 7.96l-1.37-1.37c-.4-.4-.92-.59-1.43-.59-.52 0-1.04.2-1.43.59L10.3 9.45l-7.72 7.72c-.78.78-.78 2.05 0 2.83L4 21.41c.39.39.9.59 1.41.59.51 0 1.02-.2 1.41-.59l7.78-7.78 2.81-2.81c.8-.78.8-2.07 0-2.86zM5.41 20L4 18.59l7.72-7.72 1.47 1.35L5.41 20z\"/>\n",
              "  </svg>\n",
              "      </button>\n",
              "\n",
              "\n",
              "\n",
              "    <div id=\"df-1359e270-f5ec-464a-9ae1-350c028502b5\">\n",
              "      <button class=\"colab-df-quickchart\" onclick=\"quickchart('df-1359e270-f5ec-464a-9ae1-350c028502b5')\"\n",
              "              title=\"Suggest charts.\"\n",
              "              style=\"display:none;\">\n",
              "\n",
              "<svg xmlns=\"http://www.w3.org/2000/svg\" height=\"24px\"viewBox=\"0 0 24 24\"\n",
              "     width=\"24px\">\n",
              "    <g>\n",
              "        <path d=\"M19 3H5c-1.1 0-2 .9-2 2v14c0 1.1.9 2 2 2h14c1.1 0 2-.9 2-2V5c0-1.1-.9-2-2-2zM9 17H7v-7h2v7zm4 0h-2V7h2v10zm4 0h-2v-4h2v4z\"/>\n",
              "    </g>\n",
              "</svg>\n",
              "      </button>\n",
              "    </div>\n",
              "\n",
              "<style>\n",
              "  .colab-df-quickchart {\n",
              "    background-color: #E8F0FE;\n",
              "    border: none;\n",
              "    border-radius: 50%;\n",
              "    cursor: pointer;\n",
              "    display: none;\n",
              "    fill: #1967D2;\n",
              "    height: 32px;\n",
              "    padding: 0 0 0 0;\n",
              "    width: 32px;\n",
              "  }\n",
              "\n",
              "  .colab-df-quickchart:hover {\n",
              "    background-color: #E2EBFA;\n",
              "    box-shadow: 0px 1px 2px rgba(60, 64, 67, 0.3), 0px 1px 3px 1px rgba(60, 64, 67, 0.15);\n",
              "    fill: #174EA6;\n",
              "  }\n",
              "\n",
              "  [theme=dark] .colab-df-quickchart {\n",
              "    background-color: #3B4455;\n",
              "    fill: #D2E3FC;\n",
              "  }\n",
              "\n",
              "  [theme=dark] .colab-df-quickchart:hover {\n",
              "    background-color: #434B5C;\n",
              "    box-shadow: 0px 1px 3px 1px rgba(0, 0, 0, 0.15);\n",
              "    filter: drop-shadow(0px 1px 2px rgba(0, 0, 0, 0.3));\n",
              "    fill: #FFFFFF;\n",
              "  }\n",
              "</style>\n",
              "\n",
              "    <script>\n",
              "      async function quickchart(key) {\n",
              "        const containerElement = document.querySelector('#' + key);\n",
              "        const charts = await google.colab.kernel.invokeFunction(\n",
              "            'suggestCharts', [key], {});\n",
              "      }\n",
              "    </script>\n",
              "\n",
              "\n",
              "      <script>\n",
              "\n",
              "function displayQuickchartButton(domScope) {\n",
              "  let quickchartButtonEl =\n",
              "    domScope.querySelector('#df-1359e270-f5ec-464a-9ae1-350c028502b5 button.colab-df-quickchart');\n",
              "  quickchartButtonEl.style.display =\n",
              "    google.colab.kernel.accessAllowed ? 'block' : 'none';\n",
              "}\n",
              "\n",
              "        displayQuickchartButton(document);\n",
              "      </script>\n",
              "      <style>\n",
              "    .colab-df-container {\n",
              "      display:flex;\n",
              "      flex-wrap:wrap;\n",
              "      gap: 12px;\n",
              "    }\n",
              "\n",
              "    .colab-df-convert {\n",
              "      background-color: #E8F0FE;\n",
              "      border: none;\n",
              "      border-radius: 50%;\n",
              "      cursor: pointer;\n",
              "      display: none;\n",
              "      fill: #1967D2;\n",
              "      height: 32px;\n",
              "      padding: 0 0 0 0;\n",
              "      width: 32px;\n",
              "    }\n",
              "\n",
              "    .colab-df-convert:hover {\n",
              "      background-color: #E2EBFA;\n",
              "      box-shadow: 0px 1px 2px rgba(60, 64, 67, 0.3), 0px 1px 3px 1px rgba(60, 64, 67, 0.15);\n",
              "      fill: #174EA6;\n",
              "    }\n",
              "\n",
              "    [theme=dark] .colab-df-convert {\n",
              "      background-color: #3B4455;\n",
              "      fill: #D2E3FC;\n",
              "    }\n",
              "\n",
              "    [theme=dark] .colab-df-convert:hover {\n",
              "      background-color: #434B5C;\n",
              "      box-shadow: 0px 1px 3px 1px rgba(0, 0, 0, 0.15);\n",
              "      filter: drop-shadow(0px 1px 2px rgba(0, 0, 0, 0.3));\n",
              "      fill: #FFFFFF;\n",
              "    }\n",
              "  </style>\n",
              "\n",
              "      <script>\n",
              "        const buttonEl =\n",
              "          document.querySelector('#df-2f5b2afc-9b89-446b-8ecb-8997b43663e1 button.colab-df-convert');\n",
              "        buttonEl.style.display =\n",
              "          google.colab.kernel.accessAllowed ? 'block' : 'none';\n",
              "\n",
              "        async function convertToInteractive(key) {\n",
              "          const element = document.querySelector('#df-2f5b2afc-9b89-446b-8ecb-8997b43663e1');\n",
              "          const dataTable =\n",
              "            await google.colab.kernel.invokeFunction('convertToInteractive',\n",
              "                                                     [key], {});\n",
              "          if (!dataTable) return;\n",
              "\n",
              "          const docLinkHtml = 'Like what you see? Visit the ' +\n",
              "            '<a target=\"_blank\" href=https://colab.research.google.com/notebooks/data_table.ipynb>data table notebook</a>'\n",
              "            + ' to learn more about interactive tables.';\n",
              "          element.innerHTML = '';\n",
              "          dataTable['output_type'] = 'display_data';\n",
              "          await google.colab.output.renderOutput(dataTable, element);\n",
              "          const docLink = document.createElement('div');\n",
              "          docLink.innerHTML = docLinkHtml;\n",
              "          element.appendChild(docLink);\n",
              "        }\n",
              "      </script>\n",
              "    </div>\n",
              "  </div>\n"
            ]
          },
          "metadata": {},
          "execution_count": 34
        }
      ]
    },
    {
      "cell_type": "code",
      "source": [
        "df.to_csv('houses.csv')"
      ],
      "metadata": {
        "id": "jBPtxgKf0FoM"
      },
      "execution_count": 35,
      "outputs": []
    },
    {
      "cell_type": "code",
      "source": [
        "\n",
        "# df = pd.DataFrame({'R2': [0.98399, 0.96083], 'MAE': [1.59156, 2.15011]}, index=['CatBoost', 'Ours'])\n",
        "# df = pd.DataFrame({'R2': [0.65513, 0.44165], 'MAE': [15810.4693, 20286.62057]}, index=['CatBoost', 'Ours'])\n",
        "# df = pd.DataFrame({'R2': [0.8991, 0.874857], 'MAE': [0.00154, 0.00166]}, index=['CatBoost', 'Ours'])\n",
        "# df = pd.DataFrame({'R2': [0.84719, 0.66284], 'MAE': [29578.008, 46373.224]}, index=['CatBoost', 'Ours'])"
      ],
      "metadata": {
        "id": "B_OGv9pi2KQk"
      },
      "execution_count": null,
      "outputs": []
    },
    {
      "cell_type": "code",
      "source": [
        "# df = pd.DataFrame({'R2': [0.98399, 0.71455, 0.96083], 'MAE': [1.59156, 6.14158, 2.15011]}, index=['CatBoost', 'Linreg', 'Ours'])\n",
        "# df = pd.DataFrame({'R2': [0.65513, 0.25386 , 0.44165], 'MAE': [15810.4693, 25497.7456, 20286.62057]}, index=['CatBoost', 'Linreg', 'Ours'])\n",
        "\n",
        "# df = pd.DataFrame({'R2': [0.84719, 0.63596, 0.66284], 'MAE': [29578.008, 50813.0426, 46373.224]}, index=['CatBoost', 'Linreg', 'Ours'])\n",
        "\n"
      ],
      "metadata": {
        "id": "n4IrmM903q5p"
      },
      "execution_count": null,
      "outputs": []
    }
  ]
}